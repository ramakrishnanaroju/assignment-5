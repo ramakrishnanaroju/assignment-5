{
 "cells": [
  {
   "cell_type": "code",
   "execution_count": null,
   "id": "9663aa46",
   "metadata": {},
   "outputs": [],
   "source": [
    "\n",
    "Write a Python class to implement pow(x, n)\n",
    "\n",
    "Explanation:\n",
    "\n",
    "Use should be able to find the nth power of the x.(i.e x*x*x*x...n times)\n",
    "\n",
    "You must implement it using Class\n",
    "\n",
    "Sample Input:\n",
    "\n",
    "x: 10\n",
    "\n",
    "n: 2\n",
    "\n",
    "Sample Output:\n",
    "\n",
    "100"
   ]
  },
  {
   "cell_type": "code",
   "execution_count": 26,
   "id": "d21768e7",
   "metadata": {},
   "outputs": [
    {
     "name": "stdout",
     "output_type": "stream",
     "text": [
      "10\n",
      "2\n",
      "100\n"
     ]
    }
   ],
   "source": [
    "class power:\n",
    "    def __init__(self,num1,num2):\n",
    "        self.num1=num1\n",
    "        self.num2=num2\n",
    "    def result (self):\n",
    "            return self.num1 ** self.num2\n",
    "x=int(input())\n",
    "n=int(input())\n",
    "output = power(x,n)\n",
    "print(output.result())"
   ]
  },
  {
   "cell_type": "code",
   "execution_count": null,
   "id": "e174f86b",
   "metadata": {},
   "outputs": [],
   "source": []
  },
  {
   "cell_type": "code",
   "execution_count": null,
   "id": "dd13a195",
   "metadata": {},
   "outputs": [],
   "source": []
  }
 ],
 "metadata": {
  "kernelspec": {
   "display_name": "Python 3",
   "language": "python",
   "name": "python3"
  },
  "language_info": {
   "codemirror_mode": {
    "name": "ipython",
    "version": 3
   },
   "file_extension": ".py",
   "mimetype": "text/x-python",
   "name": "python",
   "nbconvert_exporter": "python",
   "pygments_lexer": "ipython3",
   "version": "3.9.5"
  }
 },
 "nbformat": 4,
 "nbformat_minor": 5
}
